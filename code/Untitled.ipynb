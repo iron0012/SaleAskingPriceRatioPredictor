{
 "cells": [
  {
   "cell_type": "code",
   "execution_count": 60,
   "metadata": {
    "collapsed": false
   },
   "outputs": [],
   "source": [
    "import cPickle as pickle\n",
    "from sklearn.feature_extraction.text import TfidfVectorizer\n",
    "import pandas as pd\n",
    "import numpy as np\n",
    "from sklearn.ensemble import RandomForestRegressor, GradientBoostingRegressor\n",
    "import matplotlib.pyplot as plt\n",
    "from datetime import date\n",
    "import re\n",
    "from nltk.stem.snowball import SnowballStemmer\n",
    "from nltk.stem import WordNetLemmatizer\n",
    "from nltk.corpus import stopwords\n",
    "from sklearn.feature_extraction.text import CountVectorizer\n",
    "% matplotlib inline"
   ]
  },
  {
   "cell_type": "code",
   "execution_count": 40,
   "metadata": {
    "collapsed": false
   },
   "outputs": [],
   "source": [
    "WORD_PATTERN = re.compile(\"(^|\\s+)([A-Za-z]+)\")\n",
    "STEMMER = SnowballStemmer(\"english\")\n",
    "LEMMER = WordNetLemmatizer()\n",
    "\n",
    "#Combine two sets of stop words\n",
    "STOPWORDS = stopwords.words('english')\n",
    "\n",
    "#Define tokenizers that do stemming only, lemmatizing only, and both \n",
    "def tokenize_stem(s):\n",
    "    return  [STEMMER.stem(match.group(2)) \\\n",
    "             for match in WORD_PATTERN.finditer(s) \\\n",
    "             if match.group(2) not in STOPWORDS and len(match.group(2)) >= 2]\n",
    "\n",
    "def tokenize_lem(s):\n",
    "    return [LEMMER.lemmatize(match.group(2)) \\\n",
    "            for match in WORD_PATTERN.finditer(s) \\\n",
    "            if match.group(2) not in STOPWORDS and len(match.group(2)) >= 2]\n",
    "\n",
    "def tokenize_stem_lem(s):\n",
    "    return [STEMMER.stem(LEMMER.lemmatize(match.group(2))) \\\n",
    "            for match in WORD_PATTERN.finditer(s) \\\n",
    "            if match.group(2) not in STOPWORDS and len(match.group(2)) >= 2]"
   ]
  },
  {
   "cell_type": "code",
   "execution_count": 27,
   "metadata": {
    "collapsed": true
   },
   "outputs": [],
   "source": [
    "def create_dataframe_webapp(zip_codes,\n",
    "                            non_text_features,\n",
    "                            additional_stop_words,\n",
    "                            input_text,\n",
    "                            zip_code,\n",
    "                            home_size_sq_ft,\n",
    "                            number_of_bedrooms,\n",
    "                            number_of_bathrooms,\n",
    "                            vectorizer):\n",
    "    '''Prepare a pandas dataframe with the input information with the right format for inserting into\n",
    "    a trained Random Forest model to predict the sale_price to askling_price ratio.\n",
    "    input:\n",
    "    zip_codes:  a LIST of zip codes that are in random forest model.\n",
    "    non_text_features: a LIST of text of the names of the non-text features, e.g. 'home_size', 'number_of_bedrooms'.\n",
    "    additional_stop_words:  a LIST of tokeized_expression that will be removed from the final input matrix.\n",
    "\n",
    "    (The following pertains specific to the home whose price_ratio will be predicted )\n",
    "    input_text: The agent's description of the home.\n",
    "    zip_code:  The 5-digit zip_code of the home (text).\n",
    "    home_size_sq_ft: home size in square feet (integer).\n",
    "    number_of_bedrooms: number of bedrooms (float).\n",
    "    number_of_bathrooms: number of bathrooms (float)\n",
    "\n",
    "    vectorizer: vectorizer to convert input text of the agent's description to the vector of tekenized expressions.\n",
    "\n",
    "    '''\n",
    "    df_zip = pd.DataFrame(index = [1], columns = zip_codes)\n",
    "    df_zip.fillna(0, inplace = True)\n",
    "\n",
    "    X_stem_lem = vectorizer.transform([input_text])\n",
    "    features = vectorizer.get_feature_names()\n",
    "    df_text = pd.DataFrame(X_stem_lem.toarray(), index = [1], columns = features)\n",
    "    df_text.drop(additional_stop_words, axis = 1, inplace = True)\n",
    "\n",
    "    df_nontxt = pd.DataFrame(index = [1], columns = non_text_features)\n",
    "    df_nontxt.set_value(1, non_text_features, [home_size_sq_ft, number_of_bedrooms, number_of_bathrooms])\n",
    "    df_nontxt\n",
    "\n",
    "    df = pd.concat([df_zip, df_text, df_nontxt],\n",
    "                  axis = 1)\n",
    "\n",
    "    return df"
   ]
  },
  {
   "cell_type": "code",
   "execution_count": 73,
   "metadata": {
    "collapsed": false
   },
   "outputs": [
    {
     "name": "stdout",
     "output_type": "stream",
     "text": [
      "Input the 5-digit zip code of the property:94110\n",
      "Input the number of bedrooms of the property: 3\n",
      "Input the number of bathrooms of the property: 3\n",
      "Input the size of the home in square feet (interior): 1000\n",
      "\n"
     ]
    }
   ],
   "source": [
    "filepath = 'list_of_zip_codes'\n",
    "zip_codes = pickle.load(open(filepath, 'rb'))\n",
    "\n",
    "zip_code = input('Input the 5-digit zip code of the property:')\n",
    "zip_code = str(zip_code)\n",
    "number_of_bedrooms = input('Input the number of bedrooms of the property: ')\n",
    "number_of_bathrooms = input('Input the number of bathrooms of the property: ')\n",
    "home_size_sq_ft = input('Input the size of the home in square feet (interior): ')\n",
    "print\n",
    "\n"
   ]
  },
  {
   "cell_type": "code",
   "execution_count": 29,
   "metadata": {
    "collapsed": false,
    "scrolled": true
   },
   "outputs": [
    {
     "ename": "SyntaxError",
     "evalue": "invalid syntax (<ipython-input-29-9a230d3ec0fb>, line 1)",
     "output_type": "error",
     "traceback": [
      "\u001b[0;36m  File \u001b[0;32m\"<ipython-input-29-9a230d3ec0fb>\"\u001b[0;36m, line \u001b[0;32m1\u001b[0m\n\u001b[0;31m    New almost everything. New roof, plumbing and electrical systems. 2nd floor has a spacious master suite with walk in closet and 2 other bedrooms, full bathroom, and  laundry closet. 1st floor has living room, dining room, powder room, and kitchen. A walk out rear yard makes this home great for BBQs and parties.  Large attic is accessed by pull-down ladder but see it and imagine what you could do with that space.\u001b[0m\n\u001b[0m             ^\u001b[0m\n\u001b[0;31mSyntaxError\u001b[0m\u001b[0;31m:\u001b[0m invalid syntax\n"
     ]
    }
   ],
   "source": [
    "New almost everything. New roof, plumbing and electrical systems. 2nd floor has a spacious master suite with walk in closet and 2 other bedrooms, full bathroom, and  laundry closet. 1st floor has living room, dining room, powder room, and kitchen. A walk out rear yard makes this home great for BBQs and parties.  Large attic is accessed by pull-down ladder but see it and imagine what you could do with that space."
   ]
  },
  {
   "cell_type": "code",
   "execution_count": 61,
   "metadata": {
    "collapsed": false
   },
   "outputs": [],
   "source": [
    "filepath = 'agent_desc_vectorizer.p'\n",
    "vectorizer = pickle.load(open(filepath, 'rb'))\n"
   ]
  },
  {
   "cell_type": "code",
   "execution_count": 74,
   "metadata": {
    "collapsed": false
   },
   "outputs": [
    {
     "name": "stdout",
     "output_type": "stream",
     "text": [
      "Input the text of the agent's descriptionNew almost everything. New roof, plumbing and electrical systems. 2nd floor has a spacious master suite with walk in closet and 2 other bedrooms, full bathroom, and  laundry closet. 1st floor has living room, dining room, powder room, and kitchen. A walk out rear yard makes this home great for BBQs and parties.  Large attic is accessed by pull-down ladder but see it and imagine what you could do with that space.\n"
     ]
    }
   ],
   "source": [
    "input_text = raw_input(\"Input the text of the agent's description\")"
   ]
  },
  {
   "cell_type": "code",
   "execution_count": 63,
   "metadata": {
    "collapsed": false
   },
   "outputs": [
    {
     "ename": "TypeError",
     "evalue": "'CountVectorizer' object is not callable",
     "output_type": "error",
     "traceback": [
      "\u001b[0;31m---------------------------------------------------------------------------\u001b[0m",
      "\u001b[0;31mTypeError\u001b[0m                                 Traceback (most recent call last)",
      "\u001b[0;32m<ipython-input-63-c5d0c4d9ab60>\u001b[0m in \u001b[0;36m<module>\u001b[0;34m()\u001b[0m\n\u001b[0;32m----> 1\u001b[0;31m \u001b[0mvectorizer\u001b[0m\u001b[0;34m(\u001b[0m\u001b[0;34m'New almost everything. New roof, plumbing and electrical systems. 2nd floor has a spacious master suite with walk in closet and 2 other bedrooms, full bathroom, and  laundry closet. 1st floor has living room, dining room, powder room, and kitchen. A walk out rear yard makes this home great for BBQs and parties.  Large attic is accessed by pull-down ladder but see it and imagine what you could do with that space.'\u001b[0m\u001b[0;34m)\u001b[0m\u001b[0;34m\u001b[0m\u001b[0m\n\u001b[0m",
      "\u001b[0;31mTypeError\u001b[0m: 'CountVectorizer' object is not callable"
     ]
    }
   ],
   "source": [
    "vectorizer('New almost everything. New roof, plumbing and electrical systems. 2nd floor has a spacious master suite with walk in closet and 2 other bedrooms, full bathroom, and  laundry closet. 1st floor has living room, dining room, powder room, and kitchen. A walk out rear yard makes this home great for BBQs and parties.  Large attic is accessed by pull-down ladder but see it and imagine what you could do with that space.')"
   ]
  },
  {
   "cell_type": "code",
   "execution_count": 77,
   "metadata": {
    "collapsed": false
   },
   "outputs": [],
   "source": [
    "X_stem_lem = vectorizer.transform([input_text])"
   ]
  },
  {
   "cell_type": "code",
   "execution_count": 78,
   "metadata": {
    "collapsed": false
   },
   "outputs": [
    {
     "data": {
      "text/plain": [
       "57"
      ]
     },
     "execution_count": 78,
     "metadata": {},
     "output_type": "execute_result"
    }
   ],
   "source": [
    "X_stem_lem.sum()"
   ]
  },
  {
   "cell_type": "code",
   "execution_count": 79,
   "metadata": {
    "collapsed": true
   },
   "outputs": [],
   "source": [
    "additional_stop_words  =  ['monday', 'tuesday', 'wednesday', 'thursday', 'friday', 'saturday', 'sunday', 'offer',\n",
    "                           'account', 'disclosur', 'due', 'date', 'sfar', 'broker tour', 'pm', 'offer review',\n",
    "                           'tour', 'offer date', 'offer due', 'pre', 'accept', 'call', 'close', 'pleas call',\n",
    "                           'noon', 'open', 'price', 'zestim', 'zestim accur', 'zestim forecast', u'zestim forecastcr',\n",
    "                           'zestim home', 'zestim owner', 'zestim rent', 'zestim see', 'zestim valu','zestim zestim',\n",
    "                           'zestim zillow', 'zillow', 'zillow estim', 'zillow valu'\n",
    "                           ]"
   ]
  },
  {
   "cell_type": "code",
   "execution_count": 80,
   "metadata": {
    "collapsed": true
   },
   "outputs": [],
   "source": [
    "non_text_features = ['number_of_bedrooms', 'number_of_bathrooms', 'home_size']"
   ]
  },
  {
   "cell_type": "code",
   "execution_count": 82,
   "metadata": {
    "collapsed": false
   },
   "outputs": [],
   "source": [
    "df = create_dataframe_webapp(zip_codes,\n",
    "                            non_text_features,\n",
    "                            additional_stop_words,\n",
    "                            input_text,\n",
    "                            zip_code,\n",
    "                            home_size_sq_ft,\n",
    "                            number_of_bedrooms,\n",
    "                            number_of_bathrooms,\n",
    "                            vectorizer)"
   ]
  },
  {
   "cell_type": "code",
   "execution_count": 84,
   "metadata": {
    "collapsed": false
   },
   "outputs": [],
   "source": [
    "filepath = 'rf_final_model_500_50_7.p'\n",
    "rf_final_model_500_50_7 = pickle.load(open(filepath, 'rb'))"
   ]
  },
  {
   "cell_type": "code",
   "execution_count": 85,
   "metadata": {
    "collapsed": false
   },
   "outputs": [
    {
     "data": {
      "text/plain": [
       "RandomForestRegressor(bootstrap=True, criterion='mse', max_depth=None,\n",
       "           max_features=0.8, max_leaf_nodes=None, min_samples_leaf=7,\n",
       "           min_samples_split=50, min_weight_fraction_leaf=0.0,\n",
       "           n_estimators=500, n_jobs=-1, oob_score=False, random_state=None,\n",
       "           verbose=0, warm_start=False)"
      ]
     },
     "execution_count": 85,
     "metadata": {},
     "output_type": "execute_result"
    }
   ],
   "source": [
    "rf_final_model_500_50_7"
   ]
  },
  {
   "cell_type": "code",
   "execution_count": null,
   "metadata": {
    "collapsed": true
   },
   "outputs": [],
   "source": []
  }
 ],
 "metadata": {
  "kernelspec": {
   "display_name": "Python 2",
   "language": "python",
   "name": "python2"
  },
  "language_info": {
   "codemirror_mode": {
    "name": "ipython",
    "version": 2
   },
   "file_extension": ".py",
   "mimetype": "text/x-python",
   "name": "python",
   "nbconvert_exporter": "python",
   "pygments_lexer": "ipython2",
   "version": "2.7.11"
  }
 },
 "nbformat": 4,
 "nbformat_minor": 0
}
